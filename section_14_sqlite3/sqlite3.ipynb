{
 "cells": [
  {
   "cell_type": "code",
   "execution_count": 1,
   "metadata": {},
   "outputs": [],
   "source": [
    "import sqlite3"
   ]
  },
  {
   "cell_type": "code",
   "execution_count": 3,
   "metadata": {},
   "outputs": [
    {
     "data": {
      "text/plain": [
       "<sqlite3.Connection at 0x2980c0ccc70>"
      ]
     },
     "execution_count": 3,
     "metadata": {},
     "output_type": "execute_result"
    }
   ],
   "source": [
    "# Connect to an SQLite database\n",
    "connection = sqlite3.connect('example.db')\n",
    "connection"
   ]
  },
  {
   "cell_type": "code",
   "execution_count": 4,
   "metadata": {},
   "outputs": [],
   "source": [
    "cursor = connection.cursor()"
   ]
  },
  {
   "cell_type": "code",
   "execution_count": 5,
   "metadata": {},
   "outputs": [],
   "source": [
    "# Create a Table\n",
    "cursor.execute('''\n",
    "Create Table if not exists employees(\n",
    "    id Integer Primary Key,\n",
    "    name Text Not Null,\n",
    "    age Integer,\n",
    "    department text\n",
    ")               \n",
    "               \n",
    "''')\n",
    "\n",
    "# Commit the changes\n",
    "connection.commit()"
   ]
  },
  {
   "cell_type": "code",
   "execution_count": 6,
   "metadata": {},
   "outputs": [],
   "source": [
    "# Insert Data in SQLITE3 Table\n",
    "cursor.execute(\"\"\"\n",
    "Insert into employees(name, age, department)\n",
    "    values('Krish', 32, 'Data Scientist')\n",
    "               \n",
    "\"\"\")\n",
    "\n",
    "cursor.execute(\"\"\"\n",
    "Insert into employees(name, age, department)\n",
    "    values('Fukurou', 21, 'Rebel Against Peace')\n",
    "               \n",
    "\"\"\")\n",
    "\n",
    "cursor.execute(\"\"\"\n",
    "Insert into employees(name, age, department)\n",
    "    values('Bob', 25, 'Engineer')\n",
    "               \n",
    "\"\"\")\n",
    "\n",
    "connection.commit()"
   ]
  },
  {
   "cell_type": "code",
   "execution_count": 16,
   "metadata": {},
   "outputs": [
    {
     "name": "stdout",
     "output_type": "stream",
     "text": [
      "(1, 'Krish', 34, 'Data Scientist')\n",
      "(2, 'Fukurou', 21, 'Rebel Against Peace')\n"
     ]
    }
   ],
   "source": [
    "# Querying data from the table\n",
    "cursor.execute('Select * from employees')\n",
    "rows = cursor.fetchall()\n",
    "\n",
    "# Print the queried data\n",
    "for row in rows:\n",
    "    print(row)"
   ]
  },
  {
   "cell_type": "code",
   "execution_count": 14,
   "metadata": {},
   "outputs": [],
   "source": [
    "# Update the data in the table\n",
    "cursor.execute('''\n",
    "UPDATE employees\n",
    "Set age = 34\n",
    "where name = \"Krish\"\n",
    "               ''')\n",
    "\n",
    "connection.commit()"
   ]
  },
  {
   "cell_type": "code",
   "execution_count": 15,
   "metadata": {},
   "outputs": [],
   "source": [
    "# Delete the data from the table\n",
    "cursor.execute('''\n",
    "delete from employees\n",
    "    where name = 'Bob'\n",
    "               ''')\n",
    "\n",
    "connection.commit()"
   ]
  },
  {
   "cell_type": "code",
   "execution_count": 19,
   "metadata": {},
   "outputs": [],
   "source": [
    "connection.close()"
   ]
  }
 ],
 "metadata": {
  "kernelspec": {
   "display_name": "base",
   "language": "python",
   "name": "python3"
  },
  "language_info": {
   "codemirror_mode": {
    "name": "ipython",
    "version": 3
   },
   "file_extension": ".py",
   "mimetype": "text/x-python",
   "name": "python",
   "nbconvert_exporter": "python",
   "pygments_lexer": "ipython3",
   "version": "3.12.4"
  }
 },
 "nbformat": 4,
 "nbformat_minor": 2
}

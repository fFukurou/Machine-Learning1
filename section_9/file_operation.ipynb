{
 "cells": [
  {
   "cell_type": "markdown",
   "metadata": {},
   "source": [
    "### Read a Whole File"
   ]
  },
  {
   "cell_type": "code",
   "execution_count": 4,
   "metadata": {},
   "outputs": [
    {
     "name": "stdout",
     "output_type": "stream",
     "text": [
      "Hello How Are You?\n",
      "I Am Terrible\n",
      "I want to die\n",
      "KILL\n"
     ]
    }
   ],
   "source": [
    "with open('test_files/example.txt', 'r') as file:\n",
    "    content = file.read()\n",
    "    print(content)\n",
    "        "
   ]
  },
  {
   "cell_type": "markdown",
   "metadata": {},
   "source": [
    "### Read a file line by line"
   ]
  },
  {
   "cell_type": "code",
   "execution_count": 8,
   "metadata": {},
   "outputs": [
    {
     "name": "stdout",
     "output_type": "stream",
     "text": [
      "Hello How Are You?\n",
      "I Am Terrible\n",
      "I want to die\n",
      "KILL\n"
     ]
    }
   ],
   "source": [
    "with open('test_files/example.txt', 'r') as file:\n",
    "    for line in file:\n",
    "        print(line.strip()) # --> Removes the newline character"
   ]
  },
  {
   "cell_type": "markdown",
   "metadata": {},
   "source": [
    "### Writing a file (Overwriting)"
   ]
  },
  {
   "cell_type": "code",
   "execution_count": 11,
   "metadata": {},
   "outputs": [],
   "source": [
    "with open('test_files/example.txt', 'w') as file:\n",
    "    file.write(\"HELLO KEKW\\n\")\n",
    "    file.write(\"KILL KILL HAHAHHAHAH FUCK KILL\")"
   ]
  },
  {
   "cell_type": "markdown",
   "metadata": {},
   "source": [
    "### Writing a file (No Overwriting)"
   ]
  },
  {
   "cell_type": "code",
   "execution_count": 13,
   "metadata": {},
   "outputs": [],
   "source": [
    "with open('test_files/example.txt', 'a') as file:\n",
    "    file.write(\"\\nAppending operation taking place!\")"
   ]
  },
  {
   "cell_type": "markdown",
   "metadata": {},
   "source": [
    "### Writing List of Lines to file"
   ]
  },
  {
   "cell_type": "code",
   "execution_count": null,
   "metadata": {},
   "outputs": [],
   "source": [
    "lines = ['\\nFirst line \\n', 'Second line \\n', 'Third line\\n']\n",
    "\n",
    "with open('test_files/example.txt', 'a') as file:\n",
    "    file.writelines(lines)"
   ]
  },
  {
   "cell_type": "markdown",
   "metadata": {},
   "source": [
    "### Binary Files"
   ]
  },
  {
   "cell_type": "code",
   "execution_count": 17,
   "metadata": {},
   "outputs": [],
   "source": [
    "data = b'\\x00\\x01\\x02\\x03\\x04'\n",
    "\n",
    "with open('test_files/binary.bin', 'wb') as file:\n",
    "    file.write(data)"
   ]
  },
  {
   "cell_type": "code",
   "execution_count": 19,
   "metadata": {},
   "outputs": [
    {
     "name": "stdout",
     "output_type": "stream",
     "text": [
      "b'\\x00\\x01\\x02\\x03\\x04'\n"
     ]
    }
   ],
   "source": [
    "with open('test_files/binary.bin', 'rb') as file:\n",
    "    content = file.read()\n",
    "    print(content)"
   ]
  },
  {
   "cell_type": "markdown",
   "metadata": {},
   "source": [
    "### Read the content from a source text file and write to a destination text file"
   ]
  },
  {
   "cell_type": "code",
   "execution_count": 21,
   "metadata": {},
   "outputs": [],
   "source": [
    "with open('test_files/example.txt', 'r') as file:\n",
    "    content = file.read()\n",
    "    \n",
    "with open('test_files/copy_example.txt', 'w') as file:\n",
    "    file.write(content)"
   ]
  },
  {
   "cell_type": "markdown",
   "metadata": {},
   "source": [
    "### Read a text file and count the number of lines, words, and characters."
   ]
  },
  {
   "cell_type": "code",
   "execution_count": 23,
   "metadata": {},
   "outputs": [
    {
     "name": "stdout",
     "output_type": "stream",
     "text": [
      "Lines: 5, Words: 19, Characters: 144\n"
     ]
    }
   ],
   "source": [
    "def count_text_file(file_path):\n",
    "    with open(file_path, 'r') as file:\n",
    "        lines = file.readlines()\n",
    "        line_count = len(lines)\n",
    "        word_count = sum(len(line.split()) for line in lines)\n",
    "        char_count = sum(len(line) for line in lines)\n",
    "    return line_count, word_count, char_count\n",
    "\n",
    "\n",
    "file_path = 'test_files/example.txt'\n",
    "lines, words, characters = count_text_file(file_path)\n",
    "print(f'Lines: {lines}, Words: {words}, Characters: {characters}')"
   ]
  },
  {
   "cell_type": "markdown",
   "metadata": {},
   "source": [
    "### Writing and Reading"
   ]
  },
  {
   "cell_type": "code",
   "execution_count": 26,
   "metadata": {},
   "outputs": [
    {
     "name": "stdout",
     "output_type": "stream",
     "text": [
      "Hello World\n",
      "This is a new line \n",
      "\n"
     ]
    }
   ],
   "source": [
    "with open('test_files/example.txt', 'w+') as file:\n",
    "    file.write(\"Hello World\\n\")\n",
    "    file.write(\"This is a new line \\n\")\n",
    "    \n",
    "    # Move the file cursor to the beginning\n",
    "    file.seek(0)\n",
    "    \n",
    "    # Read the content of the file\n",
    "    content = file.read()\n",
    "    print(content)"
   ]
  },
  {
   "cell_type": "code",
   "execution_count": 27,
   "metadata": {},
   "outputs": [
    {
     "name": "stdout",
     "output_type": "stream",
     "text": [
      "Directory \"package\" was created!\n"
     ]
    }
   ],
   "source": [
    "import os\n",
    "new_directory = 'package'\n",
    "os.mkdir(new_directory)\n",
    "print(f'Directory \"{new_directory}\" was created!')"
   ]
  },
  {
   "cell_type": "markdown",
   "metadata": {},
   "source": [
    "### Listing Files and Directories"
   ]
  },
  {
   "cell_type": "code",
   "execution_count": 29,
   "metadata": {},
   "outputs": [
    {
     "name": "stdout",
     "output_type": "stream",
     "text": [
      "['file_operation.ipynb', 'package', 'test_files']\n"
     ]
    }
   ],
   "source": [
    "items = os.listdir('.')\n",
    "print(items)"
   ]
  },
  {
   "cell_type": "markdown",
   "metadata": {},
   "source": [
    "### JOINING PATHS"
   ]
  },
  {
   "cell_type": "code",
   "execution_count": null,
   "metadata": {},
   "outputs": [
    {
     "name": "stdout",
     "output_type": "stream",
     "text": [
      "folder\\file.txt\n"
     ]
    }
   ],
   "source": [
    "dir_name = \"folder\"\n",
    "file_name = \"file.txt\"\n",
    "full_path = os.path.join(dir_name, file_name)\n",
    "print(full_path)"
   ]
  },
  {
   "cell_type": "code",
   "execution_count": 31,
   "metadata": {},
   "outputs": [
    {
     "name": "stdout",
     "output_type": "stream",
     "text": [
      "c:\\Users\\supev\\Documents\\EOQ\\udemy\\Machine Learning Krish\\section_9\\folder\\file.txt\n"
     ]
    }
   ],
   "source": [
    "dir_name = \"folder\"\n",
    "file_name = \"file.txt\"\n",
    "full_path = os.path.join(os.getcwd(), dir_name, file_name)\n",
    "print(full_path)"
   ]
  },
  {
   "cell_type": "code",
   "execution_count": 32,
   "metadata": {},
   "outputs": [
    {
     "name": "stdout",
     "output_type": "stream",
     "text": [
      "The path 'example1.txt' does not exist...\n"
     ]
    }
   ],
   "source": [
    "path ='example1.txt'\n",
    "if os.path.exists(path):\n",
    "    print(f\"The path '{path}' exists.\")\n",
    "else:\n",
    "    print(f\"The path '{path}' does not exist...\")"
   ]
  },
  {
   "cell_type": "code",
   "execution_count": 34,
   "metadata": {},
   "outputs": [
    {
     "name": "stdout",
     "output_type": "stream",
     "text": [
      "Neither file nor directory.\n"
     ]
    }
   ],
   "source": [
    "# Checking if a Path is a File or a Directory\n",
    "import os\n",
    "path = 'example.txt'\n",
    "if os.path.isfile(path):\n",
    "    print(\"It is a file...\")\n",
    "elif os.path.isdir(path):\n",
    "    print(\"it is a directory\")\n",
    "else:\n",
    "    print(\"Neither file nor directory.\")"
   ]
  },
  {
   "cell_type": "code",
   "execution_count": 36,
   "metadata": {},
   "outputs": [
    {
     "data": {
      "text/plain": [
       "'c:\\\\Users\\\\supev\\\\Documents\\\\EOQ\\\\udemy\\\\Machine Learning Krish\\\\section_9\\\\test_files\\\\example.txt'"
      ]
     },
     "execution_count": 36,
     "metadata": {},
     "output_type": "execute_result"
    }
   ],
   "source": [
    "# Getting the absolute path\n",
    "relative_path = 'test_files/example.txt'\n",
    "absolute_path = os.path.abspath(relative_path)\n",
    "\n",
    "absolute_path"
   ]
  },
  {
   "cell_type": "code",
   "execution_count": null,
   "metadata": {},
   "outputs": [],
   "source": [
    "\n"
   ]
  }
 ],
 "metadata": {
  "kernelspec": {
   "display_name": "base",
   "language": "python",
   "name": "python3"
  },
  "language_info": {
   "codemirror_mode": {
    "name": "ipython",
    "version": 3
   },
   "file_extension": ".py",
   "mimetype": "text/x-python",
   "name": "python",
   "nbconvert_exporter": "python",
   "pygments_lexer": "ipython3",
   "version": "3.12.4"
  }
 },
 "nbformat": 4,
 "nbformat_minor": 2
}

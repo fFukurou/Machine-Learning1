{
 "cells": [
  {
   "cell_type": "markdown",
   "metadata": {},
   "source": [
    "## TRY, EXCEPT BLOCK"
   ]
  },
  {
   "cell_type": "code",
   "execution_count": 3,
   "metadata": {},
   "outputs": [
    {
     "name": "stdout",
     "output_type": "stream",
     "text": [
      "An error has occured: name 'b' is not defined\n"
     ]
    }
   ],
   "source": [
    "try:\n",
    "    a=b\n",
    "except NameError as e:\n",
    "    print(f\"An error has occured: {e}\")"
   ]
  },
  {
   "cell_type": "code",
   "execution_count": 15,
   "metadata": {},
   "outputs": [
    {
     "name": "stdout",
     "output_type": "stream",
     "text": [
      "The else block gets entered when no exception occurs\n",
      "Whether an exception occurs or not, the finally block is getting called\n"
     ]
    }
   ],
   "source": [
    "try:\n",
    "    g = 2 + 2\n",
    "    # result = 1/0\n",
    "    # a=b\n",
    "    \n",
    "except ZeroDivisionError as e:\n",
    "    print(e)\n",
    "    print(\"Please enter a denominator greater than 0\")\n",
    "\n",
    "except Exception as e:\n",
    "    print(e)\n",
    "    print(\"Main exception got caught here... i think\")\n",
    "    \n",
    "else:\n",
    "    print(\"The else block gets entered when no exception occurs\")\n",
    "    \n",
    "finally:\n",
    "    print(\"Whether an exception occurs or not, the finally block is getting called\")"
   ]
  },
  {
   "cell_type": "code",
   "execution_count": 20,
   "metadata": {},
   "outputs": [
    {
     "name": "stdout",
     "output_type": "stream",
     "text": [
      "bruh\n",
      "file closed\n"
     ]
    }
   ],
   "source": [
    "try:\n",
    "    file = open('example1.txt', 'r')\n",
    "    content= file.read()\n",
    "    print(content)\n",
    "    \n",
    "except FileNotFoundError:\n",
    "    print(\"File does not exists\")\n",
    "    \n",
    "finally:\n",
    "    if 'file' in locals() or not file.closed():\n",
    "        file.close()\n",
    "        print('file closed')"
   ]
  }
 ],
 "metadata": {
  "kernelspec": {
   "display_name": "base",
   "language": "python",
   "name": "python3"
  },
  "language_info": {
   "codemirror_mode": {
    "name": "ipython",
    "version": 3
   },
   "file_extension": ".py",
   "mimetype": "text/x-python",
   "name": "python",
   "nbconvert_exporter": "python",
   "pygments_lexer": "ipython3",
   "version": "3.12.4"
  }
 },
 "nbformat": 4,
 "nbformat_minor": 2
}
